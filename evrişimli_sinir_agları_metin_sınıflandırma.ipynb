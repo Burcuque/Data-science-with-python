{
 "cells": [
  {
   "cell_type": "code",
   "execution_count": 1,
   "metadata": {},
   "outputs": [],
   "source": [
    "import pandas as pd\n",
    "import numpy as np\n",
    "\n",
    "from keras.preprocessing import text, sequence\n",
    "from keras.utils.np_utils import to_categorical\n",
    "\n",
    "from keras.preprocessing.text import Tokenizer\n",
    "from keras.preprocessing.sequence import pad_sequences\n",
    "from tensorflow.python.keras import Sequential\n",
    "from tensorflow.python.keras.layers import Dense, Input, Flatten, Embedding, LSTM, SpatialDropout1D, Dropout, Conv1D, GlobalMaxPooling1D, MaxPooling1D\n",
    "from tensorflow.keras.callbacks import EarlyStopping\n",
    "\n",
    "import gensim\n",
    "from gensim.utils import simple_preprocess\n",
    "from gensim.parsing.preprocessing import STOPWORDS\n",
    "\n",
    "import nltk\n",
    "from nltk.stem import WordNetLemmatizer, SnowballStemmer\n",
    "from nltk.stem.porter import *\n",
    "\n",
    "\n",
    "from sklearn.datasets import fetch_20newsgroups\n",
    "from sklearn.model_selection import train_test_split\n",
    "from sklearn.feature_extraction.text import TfidfVectorizer\n",
    "\n",
    "import warnings\n",
    "warnings.filterwarnings(\"ignore\")"
   ]
  },
  {
   "cell_type": "code",
   "execution_count": 2,
   "metadata": {},
   "outputs": [],
   "source": [
    "import matplotlib.pyplot as plt\n",
    "plt.style.use('ggplot')\n",
    "\n",
    "def plot_history(history):\n",
    "    acc = history.history['acc']\n",
    "    val_acc = history.history['val_acc']\n",
    "    loss = history.history['loss']\n",
    "    val_loss = history.history['val_loss']\n",
    "    x = range(1, len(acc) + 1)\n",
    "\n",
    "    plt.figure(figsize=(12, 5))\n",
    "    plt.subplot(1, 2, 1)\n",
    "    plt.plot(x, acc, 'b', label='Eğitimin Başarımı')\n",
    "    plt.plot(x, val_acc, 'r', label='Doğrulama Başarımı')\n",
    "    plt.title('Eğitim ve Doğrulama Başarımı')\n",
    "    plt.legend()\n",
    "    plt.subplot(1, 2, 2)\n",
    "    plt.plot(x, loss, 'b', label='Eğitim kaybı')\n",
    "    plt.plot(x, val_loss, 'r', label='Doğrulama kaybı')\n",
    "    plt.title('Eğitim ve Doğrulama Kaybı')\n",
    "    plt.legend()\n",
    "    plt.show()\n",
    "    "
   ]
  },
  {
   "cell_type": "code",
   "execution_count": 3,
   "metadata": {},
   "outputs": [
    {
     "name": "stdout",
     "output_type": "stream",
     "text": [
      "------------ VERI ------------\n",
      "From: lerxst@wam.umd.edu (where's my thing)\n",
      "Subject: WHAT car is this!?\n",
      "Nntp-Posting-Host: rac3.wam.umd.edu\n",
      "Organization: University of Maryland, College Park\n",
      "Lines: 15\n",
      "\n",
      " I was wondering if anyone out there could enlighten me on this car I saw\n",
      "the other day. It was a 2-door sports car, looked to be from the late 60s/\n",
      "early 70s. It was called a Bricklin. The doors were really small. In addition,\n",
      "the front bumper was separate from the rest of the body. This is \n",
      "all I know. If anyone can tellme a model name, engine specs, years\n",
      "of production, where this car is made, history, or whatever info you\n",
      "have on this funky looking car, please e-mail.\n",
      "\n",
      "Thanks,\n",
      "- IL\n",
      "   ---- brought to you by your neighborhood Lerxst ----\n",
      "\n",
      "LABEL: rec.autos = 7\n"
     ]
    }
   ],
   "source": [
    "data = fetch_20newsgroups()\n",
    "\n",
    "print(\"------------ VERI ------------\")\n",
    "print(data.data[0].strip())\n",
    "print(\"\\nLABEL:\", data.target_names[data.target[0]],\n",
    "      \"=\", data.target[0])"
   ]
  },
  {
   "cell_type": "code",
   "execution_count": 4,
   "metadata": {},
   "outputs": [
    {
     "data": {
      "text/html": [
       "<div>\n",
       "<style scoped>\n",
       "    .dataframe tbody tr th:only-of-type {\n",
       "        vertical-align: middle;\n",
       "    }\n",
       "\n",
       "    .dataframe tbody tr th {\n",
       "        vertical-align: top;\n",
       "    }\n",
       "\n",
       "    .dataframe thead th {\n",
       "        text-align: right;\n",
       "    }\n",
       "</style>\n",
       "<table border=\"1\" class=\"dataframe\">\n",
       "  <thead>\n",
       "    <tr style=\"text-align: right;\">\n",
       "      <th></th>\n",
       "      <th>text</th>\n",
       "      <th>target</th>\n",
       "      <th>topic</th>\n",
       "    </tr>\n",
       "  </thead>\n",
       "  <tbody>\n",
       "    <tr>\n",
       "      <th>0</th>\n",
       "      <td>I have just a few quick questions.  Does anyon...</td>\n",
       "      <td>1</td>\n",
       "      <td>comp.sys.ibm.pc.hardware</td>\n",
       "    </tr>\n",
       "    <tr>\n",
       "      <th>2</th>\n",
       "      <td>Maybe I should have been clearer.  I have a In...</td>\n",
       "      <td>1</td>\n",
       "      <td>comp.sys.ibm.pc.hardware</td>\n",
       "    </tr>\n",
       "    <tr>\n",
       "      <th>4</th>\n",
       "      <td>Anybody use CD Speedway out there?  Is it as g...</td>\n",
       "      <td>1</td>\n",
       "      <td>comp.sys.ibm.pc.hardware</td>\n",
       "    </tr>\n",
       "    <tr>\n",
       "      <th>9</th>\n",
       "      <td>Hi,\\n    Can somebody tell me step by step how...</td>\n",
       "      <td>1</td>\n",
       "      <td>comp.sys.ibm.pc.hardware</td>\n",
       "    </tr>\n",
       "    <tr>\n",
       "      <th>11</th>\n",
       "      <td>I have a WANGTEK tape controller card (Revisio...</td>\n",
       "      <td>1</td>\n",
       "      <td>comp.sys.ibm.pc.hardware</td>\n",
       "    </tr>\n",
       "  </tbody>\n",
       "</table>\n",
       "</div>"
      ],
      "text/plain": [
       "                                                 text target  \\\n",
       "0   I have just a few quick questions.  Does anyon...      1   \n",
       "2   Maybe I should have been clearer.  I have a In...      1   \n",
       "4   Anybody use CD Speedway out there?  Is it as g...      1   \n",
       "9   Hi,\\n    Can somebody tell me step by step how...      1   \n",
       "11  I have a WANGTEK tape controller card (Revisio...      1   \n",
       "\n",
       "                       topic  \n",
       "0   comp.sys.ibm.pc.hardware  \n",
       "2   comp.sys.ibm.pc.hardware  \n",
       "4   comp.sys.ibm.pc.hardware  \n",
       "9   comp.sys.ibm.pc.hardware  \n",
       "11  comp.sys.ibm.pc.hardware  "
      ]
     },
     "execution_count": 4,
     "metadata": {},
     "output_type": "execute_result"
    }
   ],
   "source": [
    "categories = ['comp.graphics', 'sci.space', 'talk.politics.guns',\n",
    "            'rec.autos', 'sci.crypt', 'sci.electronics', 'comp.sys.ibm.pc.hardware']\n",
    "\n",
    "newsgroups = fetch_20newsgroups(subset='all', remove=('headers', 'footers', 'quotes'), categories=categories ) \n",
    "\n",
    "\n",
    "\n",
    "df_ = pd.DataFrame([newsgroups.data, newsgroups.target.tolist()]).T\n",
    "df_.columns = ['text', 'target']\n",
    "targets = pd.DataFrame(newsgroups.target_names)\n",
    "targets.columns=['topic']\n",
    "df = pd.merge(df_, targets, left_on='target', right_index=True)\n",
    "df.head()"
   ]
  },
  {
   "cell_type": "code",
   "execution_count": 5,
   "metadata": {},
   "outputs": [
    {
     "data": {
      "text/plain": [
       "array([0, 1, 2, 3, 4, 5, 6], dtype=object)"
      ]
     },
     "execution_count": 5,
     "metadata": {},
     "output_type": "execute_result"
    }
   ],
   "source": [
    "np.unique(df.target)"
   ]
  },
  {
   "cell_type": "code",
   "execution_count": 6,
   "metadata": {},
   "outputs": [],
   "source": [
    "import gensim\n",
    "from gensim.utils import simple_preprocess\n",
    "from gensim.parsing.preprocessing import STOPWORDS\n",
    "from nltk.stem import WordNetLemmatizer, SnowballStemmer\n",
    "from nltk.stem.porter import *\n",
    "import nltk\n",
    "stemmer = SnowballStemmer('english')\n",
    "\n",
    "def lemmatize_stemming(text):\n",
    "    return stemmer.stem(WordNetLemmatizer().lemmatize(text, pos='v'))\n",
    "def preprocess(text):\n",
    "    result = []\n",
    "    for token in gensim.utils.simple_preprocess(text):\n",
    "        if token not in gensim.parsing.preprocessing.STOPWORDS and len(token) > 3:\n",
    "            result.append(lemmatize_stemming(token))\n",
    "    return \" \".join(result)"
   ]
  },
  {
   "cell_type": "code",
   "execution_count": 7,
   "metadata": {},
   "outputs": [
    {
     "data": {
      "text/plain": [
       "0     quick question cyrix problem second cyric moth...\n",
       "2     mayb clearer intel like motherboard local vend...\n",
       "4     anybodi speedway good hate wait finish load le...\n",
       "9     somebodi tell step step kalok exist maxtor sta...\n",
       "11    wangtek tape control card revis syto backup ba...\n",
       "Name: text, dtype: object"
      ]
     },
     "execution_count": 7,
     "metadata": {},
     "output_type": "execute_result"
    }
   ],
   "source": [
    "processed_docs = df['text'].map(preprocess)\n",
    "processed_docs[:5]"
   ]
  },
  {
   "cell_type": "code",
   "execution_count": 8,
   "metadata": {},
   "outputs": [],
   "source": [
    "df['cleaned_text'] = processed_docs"
   ]
  },
  {
   "cell_type": "code",
   "execution_count": 9,
   "metadata": {},
   "outputs": [
    {
     "data": {
      "text/html": [
       "<div>\n",
       "<style scoped>\n",
       "    .dataframe tbody tr th:only-of-type {\n",
       "        vertical-align: middle;\n",
       "    }\n",
       "\n",
       "    .dataframe tbody tr th {\n",
       "        vertical-align: top;\n",
       "    }\n",
       "\n",
       "    .dataframe thead th {\n",
       "        text-align: right;\n",
       "    }\n",
       "</style>\n",
       "<table border=\"1\" class=\"dataframe\">\n",
       "  <thead>\n",
       "    <tr style=\"text-align: right;\">\n",
       "      <th></th>\n",
       "      <th>text</th>\n",
       "      <th>target</th>\n",
       "      <th>topic</th>\n",
       "      <th>cleaned_text</th>\n",
       "    </tr>\n",
       "  </thead>\n",
       "  <tbody>\n",
       "    <tr>\n",
       "      <th>0</th>\n",
       "      <td>I have just a few quick questions.  Does anyon...</td>\n",
       "      <td>1</td>\n",
       "      <td>comp.sys.ibm.pc.hardware</td>\n",
       "      <td>quick question cyrix problem second cyric moth...</td>\n",
       "    </tr>\n",
       "    <tr>\n",
       "      <th>2</th>\n",
       "      <td>Maybe I should have been clearer.  I have a In...</td>\n",
       "      <td>1</td>\n",
       "      <td>comp.sys.ibm.pc.hardware</td>\n",
       "      <td>mayb clearer intel like motherboard local vend...</td>\n",
       "    </tr>\n",
       "    <tr>\n",
       "      <th>4</th>\n",
       "      <td>Anybody use CD Speedway out there?  Is it as g...</td>\n",
       "      <td>1</td>\n",
       "      <td>comp.sys.ibm.pc.hardware</td>\n",
       "      <td>anybodi speedway good hate wait finish load le...</td>\n",
       "    </tr>\n",
       "    <tr>\n",
       "      <th>9</th>\n",
       "      <td>Hi,\\n    Can somebody tell me step by step how...</td>\n",
       "      <td>1</td>\n",
       "      <td>comp.sys.ibm.pc.hardware</td>\n",
       "      <td>somebodi tell step step kalok exist maxtor sta...</td>\n",
       "    </tr>\n",
       "    <tr>\n",
       "      <th>11</th>\n",
       "      <td>I have a WANGTEK tape controller card (Revisio...</td>\n",
       "      <td>1</td>\n",
       "      <td>comp.sys.ibm.pc.hardware</td>\n",
       "      <td>wangtek tape control card revis syto backup ba...</td>\n",
       "    </tr>\n",
       "  </tbody>\n",
       "</table>\n",
       "</div>"
      ],
      "text/plain": [
       "                                                 text target  \\\n",
       "0   I have just a few quick questions.  Does anyon...      1   \n",
       "2   Maybe I should have been clearer.  I have a In...      1   \n",
       "4   Anybody use CD Speedway out there?  Is it as g...      1   \n",
       "9   Hi,\\n    Can somebody tell me step by step how...      1   \n",
       "11  I have a WANGTEK tape controller card (Revisio...      1   \n",
       "\n",
       "                       topic  \\\n",
       "0   comp.sys.ibm.pc.hardware   \n",
       "2   comp.sys.ibm.pc.hardware   \n",
       "4   comp.sys.ibm.pc.hardware   \n",
       "9   comp.sys.ibm.pc.hardware   \n",
       "11  comp.sys.ibm.pc.hardware   \n",
       "\n",
       "                                         cleaned_text  \n",
       "0   quick question cyrix problem second cyric moth...  \n",
       "2   mayb clearer intel like motherboard local vend...  \n",
       "4   anybodi speedway good hate wait finish load le...  \n",
       "9   somebodi tell step step kalok exist maxtor sta...  \n",
       "11  wangtek tape control card revis syto backup ba...  "
      ]
     },
     "execution_count": 9,
     "metadata": {},
     "output_type": "execute_result"
    }
   ],
   "source": [
    "df.head()"
   ]
  },
  {
   "cell_type": "code",
   "execution_count": 10,
   "metadata": {},
   "outputs": [],
   "source": [
    "maxlen = 1000\n",
    "max_words = 20000"
   ]
  },
  {
   "cell_type": "code",
   "execution_count": 11,
   "metadata": {},
   "outputs": [
    {
     "name": "stdout",
     "output_type": "stream",
     "text": [
      "Found 25388 unique tokens.\n"
     ]
    }
   ],
   "source": [
    "tokenizer = Tokenizer(num_words=max_words)\n",
    "tokenizer.fit_on_texts(df.cleaned_text)\n",
    "sequences = tokenizer.texts_to_sequences(df.cleaned_text)\n",
    "word_index = tokenizer.word_index\n",
    "print(\"Found %s unique tokens.\" % len(word_index))"
   ]
  },
  {
   "cell_type": "code",
   "execution_count": 12,
   "metadata": {},
   "outputs": [
    {
     "name": "stdout",
     "output_type": "stream",
     "text": [
      "Shape of data tensor: (6817, 1000)\n",
      "Shape of label tensor: (6817, 7)\n"
     ]
    }
   ],
   "source": [
    "data = pad_sequences(sequences, maxlen=maxlen)\n",
    "\n",
    "labels = to_categorical(np.asarray(df.target))\n",
    "print('Shape of data tensor:', data.shape)\n",
    "print('Shape of label tensor:', labels.shape)"
   ]
  },
  {
   "cell_type": "code",
   "execution_count": 13,
   "metadata": {},
   "outputs": [
    {
     "name": "stdout",
     "output_type": "stream",
     "text": [
      "(5453, 1000) (5453, 7)\n",
      "(1364, 1000) (1364, 7)\n"
     ]
    }
   ],
   "source": [
    "X_train, X_test, y_train, y_test = train_test_split(data, labels, test_size = 0.2, random_state = 0)\n",
    "\n",
    "print(X_train.shape, y_train.shape)\n",
    "print(X_test.shape, y_test.shape)"
   ]
  },
  {
   "cell_type": "code",
   "execution_count": 14,
   "metadata": {},
   "outputs": [
    {
     "name": "stdout",
     "output_type": "stream",
     "text": [
      "found 400000 word vectors.\n"
     ]
    }
   ],
   "source": [
    "import os\n",
    "\n",
    "glove_dir = './glove/'\n",
    "\n",
    "embeddings_index = {}\n",
    "\n",
    "f = open(os.path.join(glove_dir, \"glove.6B.100d.txt\"))\n",
    "for line in f:\n",
    "    values = line.split()\n",
    "    word = values[0]\n",
    "    coefs = np.asarray(values[1:], dtype=\"float32\")\n",
    "    embeddings_index[word] = coefs\n",
    "f.close()\n",
    "\n",
    "print(\"found %s word vectors.\" % len(embeddings_index))"
   ]
  },
  {
   "cell_type": "code",
   "execution_count": 15,
   "metadata": {},
   "outputs": [],
   "source": [
    "embedding_dim = 100\n",
    "embedding_matrix = np.zeros((len(word_index) + 1, embedding_dim))\n",
    "\n",
    "count_zero = 0\n",
    "for word, idx in word_index.items():\n",
    "    embed_vector = embeddings_index.get(word)\n",
    "    if embed_vector is not None:\n",
    "        count_zero += 1\n",
    "        embedding_matrix[idx] = embed_vector\n",
    "        \n",
    "#print(\"embedding_matrix val:\\n\",embedding_matrix)"
   ]
  },
  {
   "cell_type": "code",
   "execution_count": 16,
   "metadata": {},
   "outputs": [
    {
     "name": "stdout",
     "output_type": "stream",
     "text": [
      "Model: \"sequential\"\n",
      "_________________________________________________________________\n",
      "Layer (type)                 Output Shape              Param #   \n",
      "=================================================================\n",
      "embedding (Embedding)        (None, 1000, 100)         2538900   \n",
      "_________________________________________________________________\n",
      "conv1d (Conv1D)              (None, 996, 128)          64128     \n",
      "_________________________________________________________________\n",
      "max_pooling1d (MaxPooling1D) (None, 199, 128)          0         \n",
      "_________________________________________________________________\n",
      "dropout (Dropout)            (None, 199, 128)          0         \n",
      "_________________________________________________________________\n",
      "conv1d_1 (Conv1D)            (None, 195, 128)          82048     \n",
      "_________________________________________________________________\n",
      "max_pooling1d_1 (MaxPooling1 (None, 39, 128)           0         \n",
      "_________________________________________________________________\n",
      "dropout_1 (Dropout)          (None, 39, 128)           0         \n",
      "_________________________________________________________________\n",
      "conv1d_2 (Conv1D)            (None, 35, 128)           82048     \n",
      "_________________________________________________________________\n",
      "max_pooling1d_2 (MaxPooling1 (None, 1, 128)            0         \n",
      "_________________________________________________________________\n",
      "flatten (Flatten)            (None, 128)               0         \n",
      "_________________________________________________________________\n",
      "dropout_2 (Dropout)          (None, 128)               0         \n",
      "_________________________________________________________________\n",
      "dense (Dense)                (None, 128)               16512     \n",
      "_________________________________________________________________\n",
      "dropout_3 (Dropout)          (None, 128)               0         \n",
      "_________________________________________________________________\n",
      "dense_1 (Dense)              (None, 7)                 903       \n",
      "=================================================================\n",
      "Total params: 2,784,539\n",
      "Trainable params: 2,784,539\n",
      "Non-trainable params: 0\n",
      "_________________________________________________________________\n"
     ]
    }
   ],
   "source": [
    "model = Sequential()\n",
    "model.add(Embedding(len(word_index) + 1, embedding_dim,\n",
    "                            weights=[embedding_matrix],\n",
    "                            input_length=maxlen,\n",
    "                            trainable=True))\n",
    "\n",
    "model.add(Conv1D(128, 5, activation='relu'))\n",
    "model.add(MaxPooling1D(5))\n",
    "model.add(Dropout(0.2))\n",
    "model.add(Conv1D(128, 5, activation='relu'))\n",
    "model.add(MaxPooling1D(5))\n",
    "model.add(Dropout(0.2))\n",
    "model.add(Conv1D(128, 5, activation='relu'))\n",
    "model.add(MaxPooling1D(35))\n",
    "model.add(Flatten())\n",
    "model.add(Dropout(0.2))\n",
    "model.add(Dense(128, activation='relu'))\n",
    "model.add(Dropout(0.2))\n",
    "model.add(Dense(7, activation='softmax'))\n",
    "model.compile(optimizer='adam', loss='categorical_crossentropy', metrics=['acc'])\n",
    "model.summary()\n"
   ]
  },
  {
   "cell_type": "code",
   "execution_count": 17,
   "metadata": {},
   "outputs": [
    {
     "name": "stdout",
     "output_type": "stream",
     "text": [
      "Epoch 1/15\n",
      "43/43 [==============================] - 81s 2s/step - loss: 1.9265 - acc: 0.1814 - val_loss: 1.8277 - val_acc: 0.3218\n",
      "Epoch 2/15\n",
      "43/43 [==============================] - 76s 2s/step - loss: 1.5238 - acc: 0.4134 - val_loss: 1.1489 - val_acc: 0.5806\n",
      "Epoch 3/15\n",
      "43/43 [==============================] - 76s 2s/step - loss: 1.0415 - acc: 0.6123 - val_loss: 0.8699 - val_acc: 0.7089\n",
      "Epoch 4/15\n",
      "43/43 [==============================] - 79s 2s/step - loss: 0.7777 - acc: 0.7321 - val_loss: 0.7822 - val_acc: 0.7331\n",
      "Epoch 5/15\n",
      "43/43 [==============================] - 74s 2s/step - loss: 0.6047 - acc: 0.7977 - val_loss: 0.7712 - val_acc: 0.7383\n",
      "Epoch 6/15\n",
      "43/43 [==============================] - 74s 2s/step - loss: 0.4610 - acc: 0.8460 - val_loss: 0.7661 - val_acc: 0.7625\n",
      "Epoch 7/15\n",
      "43/43 [==============================] - 79s 2s/step - loss: 0.3392 - acc: 0.8892 - val_loss: 0.8404 - val_acc: 0.7588\n",
      "Epoch 8/15\n",
      "43/43 [==============================] - 74s 2s/step - loss: 0.2822 - acc: 0.9045 - val_loss: 0.8894 - val_acc: 0.7647\n",
      "Epoch 9/15\n",
      "43/43 [==============================] - 74s 2s/step - loss: 0.2249 - acc: 0.9305 - val_loss: 0.9538 - val_acc: 0.7617\n",
      "Epoch 10/15\n",
      "43/43 [==============================] - 74s 2s/step - loss: 0.1920 - acc: 0.9356 - val_loss: 1.0705 - val_acc: 0.7573\n",
      "Epoch 11/15\n",
      "43/43 [==============================] - 78s 2s/step - loss: 0.1760 - acc: 0.9384 - val_loss: 1.0590 - val_acc: 0.7661\n",
      "Epoch 12/15\n",
      "43/43 [==============================] - 78s 2s/step - loss: 0.1532 - acc: 0.9488 - val_loss: 1.1240 - val_acc: 0.7639\n",
      "Epoch 13/15\n",
      "43/43 [==============================] - 77s 2s/step - loss: 0.1559 - acc: 0.9479 - val_loss: 1.2140 - val_acc: 0.7573\n",
      "Epoch 14/15\n",
      "43/43 [==============================] - 79s 2s/step - loss: 0.1290 - acc: 0.9556 - val_loss: 1.2423 - val_acc: 0.7705\n",
      "Epoch 15/15\n",
      "43/43 [==============================] - 82s 2s/step - loss: 0.1233 - acc: 0.9575 - val_loss: 1.3614 - val_acc: 0.7647\n"
     ]
    }
   ],
   "source": [
    "histroy = model.fit(X_train, y_train, epochs=15, batch_size=128, validation_data=(X_test, y_test))"
   ]
  },
  {
   "cell_type": "code",
   "execution_count": 20,
   "metadata": {},
   "outputs": [
    {
     "data": {
      "image/png": "[encoded data removed]",
      "text/plain": [
       "<Figure size 864x360 with 2 Axes>"
      ]
     },
     "metadata": {
      "needs_background": "light"
     },
     "output_type": "display_data"
    }
   ],
   "source": [
    "plot_history(histroy)"
   ]
  },
  {
   "cell_type": "code",
   "execution_count": 21,
   "metadata": {},
   "outputs": [
    {
     "name": "stdout",
     "output_type": "stream",
     "text": [
      "11/11 [==============================] - 5s 429ms/step - loss: 1.3614 - acc: 0.7647\n",
      "Test score: 1.3614449501037598\n",
      "Test accuracy: 0.7646627426147461\n"
     ]
    }
   ],
   "source": [
    "score, acc = model.evaluate(X_test, y_test, batch_size=128)\n",
    "print('Test score:', score)\n",
    "print('Test accuracy:', acc)"
   ]
  },
  {
   "cell_type": "code",
   "execution_count": 24,
   "metadata": {},
   "outputs": [
    {
     "name": "stdout",
     "output_type": "stream",
     "text": [
      "Model: \"sequential_1\"\n",
      "_________________________________________________________________\n",
      "Layer (type)                 Output Shape              Param #   \n",
      "=================================================================\n",
      "embedding_1 (Embedding)      (None, 1000, 100)         2538900   \n",
      "_________________________________________________________________\n",
      "conv1d_3 (Conv1D)            (None, 996, 128)          64128     \n",
      "_________________________________________________________________\n",
      "max_pooling1d_3 (MaxPooling1 (None, 199, 128)          0         \n",
      "_________________________________________________________________\n",
      "dropout_4 (Dropout)          (None, 199, 128)          0         \n",
      "_________________________________________________________________\n",
      "conv1d_4 (Conv1D)            (None, 195, 128)          82048     \n",
      "_________________________________________________________________\n",
      "max_pooling1d_4 (MaxPooling1 (None, 39, 128)           0         \n",
      "_________________________________________________________________\n",
      "dropout_5 (Dropout)          (None, 39, 128)           0         \n",
      "_________________________________________________________________\n",
      "conv1d_5 (Conv1D)            (None, 35, 128)           82048     \n",
      "_________________________________________________________________\n",
      "max_pooling1d_5 (MaxPooling1 (None, 1, 128)            0         \n",
      "_________________________________________________________________\n",
      "flatten_1 (Flatten)          (None, 128)               0         \n",
      "_________________________________________________________________\n",
      "dropout_6 (Dropout)          (None, 128)               0         \n",
      "_________________________________________________________________\n",
      "dense_2 (Dense)              (None, 128)               16512     \n",
      "_________________________________________________________________\n",
      "dropout_7 (Dropout)          (None, 128)               0         \n",
      "_________________________________________________________________\n",
      "dense_3 (Dense)              (None, 7)                 903       \n",
      "=================================================================\n",
      "Total params: 2,784,539\n",
      "Trainable params: 2,784,539\n",
      "Non-trainable params: 0\n",
      "_________________________________________________________________\n",
      "Epoch 1/6\n",
      "43/43 [==============================] - 86s 2s/step - loss: 1.9250 - acc: 0.1909 - val_loss: 1.7824 - val_acc: 0.3043\n",
      "Epoch 2/6\n",
      "43/43 [==============================] - 81s 2s/step - loss: 1.4949 - acc: 0.4214 - val_loss: 1.1114 - val_acc: 0.5821\n",
      "Epoch 3/6\n",
      "43/43 [==============================] - 76s 2s/step - loss: 1.0258 - acc: 0.6224 - val_loss: 0.8825 - val_acc: 0.6804\n",
      "Epoch 4/6\n",
      "43/43 [==============================] - 74s 2s/step - loss: 0.7797 - acc: 0.7244 - val_loss: 0.8097 - val_acc: 0.7133\n",
      "Epoch 5/6\n",
      "43/43 [==============================] - 74s 2s/step - loss: 0.6088 - acc: 0.7957 - val_loss: 0.7329 - val_acc: 0.7507\n",
      "Epoch 6/6\n",
      "43/43 [==============================] - 74s 2s/step - loss: 0.4539 - acc: 0.8456 - val_loss: 0.7789 - val_acc: 0.7522\n"
     ]
    }
   ],
   "source": [
    "model2 = Sequential()\n",
    "model2.add(Embedding(len(word_index) + 1, embedding_dim,\n",
    "                            weights=[embedding_matrix],\n",
    "                            input_length=maxlen,\n",
    "                            trainable=True))\n",
    "\n",
    "model2.add(Conv1D(128, 5, activation='relu'))\n",
    "model2.add(MaxPooling1D(5))\n",
    "model2.add(Dropout(0.2))\n",
    "model2.add(Conv1D(128, 5, activation='relu'))\n",
    "model2.add(MaxPooling1D(5))\n",
    "model2.add(Dropout(0.2))\n",
    "model2.add(Conv1D(128, 5, activation='relu'))\n",
    "model2.add(MaxPooling1D(35))\n",
    "model2.add(Flatten())\n",
    "model2.add(Dropout(0.2))\n",
    "model2.add(Dense(128, activation='relu'))\n",
    "model2.add(Dropout(0.2))\n",
    "model2.add(Dense(7, activation='softmax'))\n",
    "model2.compile(optimizer='adam', loss='categorical_crossentropy', metrics=['acc'])\n",
    "model2.summary()\n",
    "\n",
    "\n",
    "histroy2 = model2.fit(X_train, y_train, epochs=6, batch_size=128, validation_data=(X_test, y_test))"
   ]
  },
  {
   "cell_type": "code",
   "execution_count": 25,
   "metadata": {},
   "outputs": [
    {
     "data": {
      "image/png": "[encoded data removed]",
      "text/plain": [
       "<Figure size 864x360 with 2 Axes>"
      ]
     },
     "metadata": {
      "needs_background": "light"
     },
     "output_type": "display_data"
    }
   ],
   "source": [
    "plot_history(histroy2)"
   ]
  },
  {
   "cell_type": "code",
   "execution_count": 26,
   "metadata": {},
   "outputs": [
    {
     "name": "stdout",
     "output_type": "stream",
     "text": [
      "11/11 [==============================] - 5s 422ms/step - loss: 0.7789 - acc: 0.7522\n",
      "Test score: 0.7788960933685303\n",
      "Test accuracy: 0.7521994113922119\n"
     ]
    }
   ],
   "source": [
    "score, acc = model2.evaluate(X_test, y_test, batch_size=128)\n",
    "print('Test score:', score)\n",
    "print('Test accuracy:', acc)"
   ]
  },
  {
   "cell_type": "code",
   "execution_count": 27,
   "metadata": {},
   "outputs": [],
   "source": [
    "y_pred = model2.predict(X_test)"
   ]
  },
  {
   "cell_type": "code",
   "execution_count": 29,
   "metadata": {},
   "outputs": [
    {
     "data": {
      "text/plain": [
       "array([0, 5, 4, ..., 6, 4, 4])"
      ]
     },
     "execution_count": 29,
     "metadata": {},
     "output_type": "execute_result"
    }
   ],
   "source": [
    "y_pred_class = np.argmax(y_pred, axis=1)\n",
    "y_pred_class"
   ]
  },
  {
   "cell_type": "code",
   "execution_count": 31,
   "metadata": {},
   "outputs": [],
   "source": [
    "_class = np.argmax(y_test, axis=1)"
   ]
  },
  {
   "cell_type": "code",
   "execution_count": 32,
   "metadata": {},
   "outputs": [
    {
     "name": "stdout",
     "output_type": "stream",
     "text": [
      "              precision    recall  f1-score   support\n",
      "\n",
      "           0       0.84      0.72      0.77       220\n",
      "           1       0.79      0.74      0.77       191\n",
      "           2       0.74      0.71      0.73       191\n",
      "           3       0.87      0.76      0.81       194\n",
      "           4       0.53      0.72      0.61       197\n",
      "           5       0.79      0.83      0.81       199\n",
      "           6       0.82      0.78      0.80       172\n",
      "\n",
      "    accuracy                           0.75      1364\n",
      "   macro avg       0.77      0.75      0.76      1364\n",
      "weighted avg       0.77      0.75      0.76      1364\n",
      "\n"
     ]
    }
   ],
   "source": [
    "from sklearn.metrics import accuracy_score\n",
    "from sklearn.metrics import classification_report\n",
    "from sklearn.metrics import confusion_matrix\n",
    "\n",
    "print(classification_report(_class, y_pred_class))"
   ]
  },
  {
   "cell_type": "code",
   "execution_count": null,
   "metadata": {},
   "outputs": [],
   "source": []
  }
 ],
 "metadata": {
  "kernelspec": {
   "display_name": "Python 3",
   "language": "python",
   "name": "python3"
  },
  "language_info": {
   "codemirror_mode": {
    "name": "ipython",
    "version": 3
   },
   "file_extension": ".py",
   "mimetype": "text/x-python",
   "name": "python",
   "nbconvert_exporter": "python",
   "pygments_lexer": "ipython3",
   "version": "3.7.3"
  }
 },
 "nbformat": 4,
 "nbformat_minor": 2
}
