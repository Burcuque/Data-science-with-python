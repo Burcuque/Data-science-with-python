{
 "cells": [
  {
   "cell_type": "code",
   "execution_count": 1,
   "metadata": {
    "_cell_guid": "dd2bb8ee-16cc-4782-98a7-c77bab702617",
    "_uuid": "7d670c2680f6fa4e4070d3a84e49f7f73fbef418",
    "collapsed": true
   },
   "outputs": [],
   "source": [
    "import pandas as pd\n",
    "import numpy as np\n",
    "from matplotlib.colors import ListedColormap\n",
    "import matplotlib.pyplot as plt\n",
    "from sklearn import datasets\n",
    "from sklearn import metrics\n",
    "from sklearn.model_selection import train_test_split\n",
    "from sklearn.preprocessing import StandardScaler\n",
    "from sklearn.neighbors import KNeighborsClassifier\n",
    "from sklearn.linear_model import LogisticRegression\n",
    "from sklearn.naive_bayes import GaussianNB\n",
    "from sklearn.svm import SVC\n",
    "import xgboost as xgb"
   ]
  },
  {
   "cell_type": "code",
   "execution_count": 2,
   "metadata": {
    "_cell_guid": "8dafdeb3-88f4-4c95-905a-941a92959630",
    "_uuid": "6b80125f3d5a86eba84adfbb34515db2c6d43ec7",
    "collapsed": false
   },
   "outputs": [
    {
     "name": "stdout",
     "output_type": "stream",
     "text": [
      "   petal length (cm)  petal width (cm)\n",
      "0                1.4               0.2\n",
      "1                1.4               0.2\n",
      "2                1.3               0.2\n",
      "3                1.5               0.2\n",
      "4                1.4               0.2\n"
     ]
    }
   ],
   "source": [
    "# Load Iris dataset with sklearn\n",
    "iris = datasets.load_iris()\n",
    "\n",
    "# We use the petal length and width \n",
    "X = iris.data[:,[2,3]]\n",
    "y = iris.target\n",
    "\n",
    "iris_dataframe = pd.DataFrame(X, columns=iris.feature_names[2:])\n",
    "print(iris_dataframe.head())"
   ]
  },
  {
   "cell_type": "code",
   "execution_count": 3,
   "metadata": {
    "_cell_guid": "fe19b49b-9761-4a81-b8a9-050cfe472efc",
    "_uuid": "9439ca68c76662d7f6c415730b551afeabfa4116",
    "collapsed": false
   },
   "outputs": [
    {
     "name": "stdout",
     "output_type": "stream",
     "text": [
      "Training Sample: 105\n",
      "Test Sample: 45\n"
     ]
    }
   ],
   "source": [
    "# Training and Test Datasets\n",
    "X_train, X_test, y_train, y_test = train_test_split(X, y, test_size=0.3,random_state=0)\n",
    "\n",
    "print(\"Training Sample: {}\".format(X_train.shape[0]))\n",
    "print(\"Test Sample: {}\".format(X_test.shape[0]))"
   ]
  },
  {
   "cell_type": "code",
   "execution_count": 4,
   "metadata": {
    "_cell_guid": "fa0a38f2-c054-4a96-81ba-1be8e1966eb0",
    "_uuid": "b3d7f0755e61c5b9d1bd7a907fa1f202738e39c0",
    "collapsed": false
   },
   "outputs": [
    {
     "name": "stdout",
     "output_type": "stream",
     "text": [
      "   petal length (cm)  petal width (cm)\n",
      "0          -0.182950         -0.291459\n",
      "1           0.930661          0.737219\n",
      "2           1.042022          1.637313\n",
      "3           0.652258          0.351465\n",
      "4           1.097702          0.737219\n"
     ]
    }
   ],
   "source": [
    "#Now, we will scale the data with using sklearn.\n",
    "sc = StandardScaler()\n",
    "sc.fit(X_train)\n",
    "\n",
    "X_train_ = sc.transform(X_train)\n",
    "X_test_ = sc.transform(X_test)\n",
    "\n",
    "#After standardizing our features\n",
    "print(pd.DataFrame(X_train_, columns=iris_dataframe.columns).head())"
   ]
  },
  {
   "cell_type": "code",
   "execution_count": 5,
   "metadata": {
    "_cell_guid": "682a0a4a-de03-4eda-adfa-f9bb1e8cd6ba",
    "_uuid": "415bf7b15c2b8636bc8ab8ab9c9e59f75d292313",
    "collapsed": false
   },
   "outputs": [
    {
     "data": {
      "image/png": "[encoded data removed]",
      "text/plain": [
       "<matplotlib.figure.Figure at 0x10a0b5898>"
      ]
     },
     "metadata": {},
     "output_type": "display_data"
    }
   ],
   "source": [
    "# Now plotting with matplotlib\n",
    "markers = (\"s\",\"x\",\"o\")\n",
    "colors = (\"red\",\"blue\",\"gray\")\n",
    "cmap = ListedColormap(colors[:len(np.unique(y_test))])\n",
    "plt.figure(figsize=(10,8))\n",
    "for idx, cl in enumerate(np.unique(y)):\n",
    "    plt.scatter(x=X[y ==cl, 0],y=X[y==cl,1],c=cmap(idx),marker=markers[idx],label=cl)\n",
    "    plt.legend()\n",
    "plt.show()"
   ]
  },
  {
   "cell_type": "code",
   "execution_count": 6,
   "metadata": {
    "_cell_guid": "ac28b189-6195-47d0-a86c-6ae6e5cdabb4",
    "_uuid": "ac7b8322bb77d00622769fdbe4d04be1455bb9ef",
    "collapsed": true
   },
   "outputs": [],
   "source": [
    "def plot_decision_regions(X, y, classifier, test_idx=None, resolution=0.02):\n",
    "    plt.figure(figsize=(10,8))\n",
    "    # setup marker generator and color map\n",
    "    markers = ('s', 'x', 'o')\n",
    "    colors = ('red', 'blue', 'gray')\n",
    "    cmap = ListedColormap(colors[:len(np.unique(y))])\n",
    "\n",
    "    # plot the decision surface\n",
    "    x1_min, x1_max = X[:, 0].min() - 1, X[:, 0].max() + 1\n",
    "    x2_min, x2_max = X[:, 1].min() - 1, X[:, 1].max() + 1\n",
    "    xx1, xx2 = np.meshgrid(np.arange(x1_min, x1_max, resolution),\n",
    "                           np.arange(x2_min, x2_max, resolution))\n",
    "    Z = classifier.predict(np.array([xx1.ravel(), xx2.ravel()]).T)\n",
    "    Z = Z.reshape(xx1.shape)\n",
    "    plt.contourf(xx1, xx2, Z, alpha=0.4, cmap=cmap)\n",
    "    plt.xlim(xx1.min(), xx1.max())\n",
    "    plt.ylim(xx2.min(), xx2.max())\n",
    "    \n",
    "    \n",
    "    for idx, cl in enumerate(np.unique(y)):\n",
    "        plt.scatter(x=X[y == cl, 0], y=X[y == cl, 1], alpha=0.8, c=cmap(idx), marker=markers[idx], label=cl)\n",
    "        plt.legend()"
   ]
  },
  {
   "cell_type": "code",
   "execution_count": 7,
   "metadata": {
    "_cell_guid": "98c09519-a45f-4568-8068-8232ef4f9557",
    "_uuid": "22f3d6833b3492214787b450e0febd3ead286cb1",
    "collapsed": false
   },
   "outputs": [
    {
     "data": {
      "image/png": "[encoded data removed]",
      "text/plain": [
       "<matplotlib.figure.Figure at 0x10a0b56d8>"
      ]
     },
     "metadata": {},
     "output_type": "display_data"
    }
   ],
   "source": [
    "# Error Rate versus K Value\n",
    "error_rate = []\n",
    "\n",
    "for i in range(1,10):    \n",
    "    knn = KNeighborsClassifier(n_neighbors=i)\n",
    "    knn.fit(X_train_, y_train)\n",
    "    pred_i = knn.predict(X_test_)\n",
    "    error_rate.append(np.mean(pred_i != y_test))\n",
    "    \n",
    "plt.figure(figsize=(10,8))\n",
    "plt.plot(range(1,10),error_rate,color='blue', linestyle='dashed', marker='o',\n",
    "         markerfacecolor='red', markersize=10)\n",
    "plt.title('Error Rate vs. K Value')\n",
    "plt.xlabel('K')\n",
    "plt.ylabel('Error Rate')\n",
    "plt.show()\n",
    "plt.close()"
   ]
  },
  {
   "cell_type": "code",
   "execution_count": 8,
   "metadata": {
    "_cell_guid": "ddd2d39c-416d-4e7b-aa17-f4d453ed9a50",
    "_uuid": "1a8ea5214b2dbec9eca38e5752518bb191b71175",
    "collapsed": false
   },
   "outputs": [
    {
     "name": "stdout",
     "output_type": "stream",
     "text": [
      "Train - Accuracy : 0.952380952381\n",
      "Train - Confusion matrix : [[34  0  0]\n",
      " [ 0 30  2]\n",
      " [ 0  3 36]]\n",
      "Train - classification report :              precision    recall  f1-score   support\n",
      "\n",
      "          0       1.00      1.00      1.00        34\n",
      "          1       0.91      0.94      0.92        32\n",
      "          2       0.95      0.92      0.94        39\n",
      "\n",
      "avg / total       0.95      0.95      0.95       105\n",
      "\n",
      "\n",
      "\n",
      "Test - Accuracy : 1.0\n",
      "Test - Confusion matrix : [[16  0  0]\n",
      " [ 0 18  0]\n",
      " [ 0  0 11]]\n",
      "Test - classification report :              precision    recall  f1-score   support\n",
      "\n",
      "          0       1.00      1.00      1.00        16\n",
      "          1       1.00      1.00      1.00        18\n",
      "          2       1.00      1.00      1.00        11\n",
      "\n",
      "avg / total       1.00      1.00      1.00        45\n",
      "\n"
     ]
    }
   ],
   "source": [
    "# KNN classifier\n",
    "knn = KNeighborsClassifier(n_neighbors=5, p=2, metric='minkowski')\n",
    "knn.fit(X_train_, y_train)\n",
    "\n",
    "print (\"Train - Accuracy :\", metrics.accuracy_score(y_train, knn.predict(X_train_)))\n",
    "print (\"Train - Confusion matrix :\",metrics.confusion_matrix(y_train, knn.predict(X_train_)))\n",
    "print (\"Train - classification report :\", metrics.classification_report(y_train, knn.predict(X_train_)))\n",
    "print(\"\\n\")\n",
    "print (\"Test - Accuracy :\", metrics.accuracy_score(y_test, knn.predict(X_test_)))\n",
    "print (\"Test - Confusion matrix :\",metrics.confusion_matrix(y_test, knn.predict(X_test_)))\n",
    "print (\"Test - classification report :\", metrics.classification_report(y_test, knn.predict(X_test_)))"
   ]
  },
  {
   "cell_type": "code",
   "execution_count": 9,
   "metadata": {
    "_cell_guid": "08cacb8b-60d9-41da-93c5-bb841aa6ec09",
    "_uuid": "405378efd20b0e9a8585ece817cb367ffa89ff7b",
    "collapsed": false
   },
   "outputs": [
    {
     "name": "stderr",
     "output_type": "stream",
     "text": [
      "/Library/Frameworks/Python.framework/Versions/3.5/lib/python3.5/site-packages/numpy/ma/core.py:6385: MaskedArrayFutureWarning: In the future the default for ma.minimum.reduce will be axis=0, not the current None, to match np.minimum.reduce. Explicitly pass 0 or None to silence this warning.\n",
      "  return self.reduce(a)\n",
      "/Library/Frameworks/Python.framework/Versions/3.5/lib/python3.5/site-packages/numpy/ma/core.py:6385: MaskedArrayFutureWarning: In the future the default for ma.maximum.reduce will be axis=0, not the current None, to match np.maximum.reduce. Explicitly pass 0 or None to silence this warning.\n",
      "  return self.reduce(a)\n"
     ]
    }
   ],
   "source": [
    "plot_decision_regions(X_test_, y_test, knn)"
   ]
  },
  {
   "cell_type": "code",
   "execution_count": 10,
   "metadata": {
    "_cell_guid": "6c2996af-7dd8-4014-8bc3-25b78b6d82cb",
    "_uuid": "fbd3e7dfd23184cf9db7b719f8eb630dc61e8829",
    "collapsed": false
   },
   "outputs": [
    {
     "name": "stdout",
     "output_type": "stream",
     "text": [
      "Train - Accuracy : 0.914285714286\n",
      "Train - Confusion matrix : [[34  0  0]\n",
      " [ 2 23  7]\n",
      " [ 0  0 39]]\n",
      "Train - classification report :              precision    recall  f1-score   support\n",
      "\n",
      "          0       0.94      1.00      0.97        34\n",
      "          1       1.00      0.72      0.84        32\n",
      "          2       0.85      1.00      0.92        39\n",
      "\n",
      "avg / total       0.93      0.91      0.91       105\n",
      "\n",
      "\n",
      "\n",
      "Test - Accuracy : 0.8\n",
      "Test - Confusion matrix : [[16  0  0]\n",
      " [ 1  9  8]\n",
      " [ 0  0 11]]\n",
      "Test - classification report :              precision    recall  f1-score   support\n",
      "\n",
      "          0       0.94      1.00      0.97        16\n",
      "          1       1.00      0.50      0.67        18\n",
      "          2       0.58      1.00      0.73        11\n",
      "\n",
      "avg / total       0.88      0.80      0.79        45\n",
      "\n"
     ]
    }
   ],
   "source": [
    "# Logistic Regression\n",
    "LReg = LogisticRegression()\n",
    "LReg.fit(X_train_, y_train)\n",
    "\n",
    "# generate evaluation metrics\n",
    "print (\"Train - Accuracy :\", metrics.accuracy_score(y_train, LReg.predict(X_train_)))\n",
    "print (\"Train - Confusion matrix :\",metrics.confusion_matrix(y_train, LReg.predict(X_train_)))\n",
    "print (\"Train - classification report :\", metrics.classification_report(y_train, LReg.predict(X_train_)))\n",
    "print(\"\\n\")\n",
    "print (\"Test - Accuracy :\", metrics.accuracy_score(y_test, LReg.predict(X_test_)))\n",
    "print (\"Test - Confusion matrix :\",metrics.confusion_matrix(y_test, LReg.predict(X_test_)))\n",
    "print (\"Test - classification report :\", metrics.classification_report(y_test, LReg.predict(X_test_)))"
   ]
  },
  {
   "cell_type": "code",
   "execution_count": 11,
   "metadata": {
    "_cell_guid": "b0852eff-7504-461c-a857-7c22f9fe76c1",
    "_uuid": "61dc8d0b88c5c20ae27d4c81854238939088f899",
    "collapsed": false
   },
   "outputs": [
    {
     "name": "stderr",
     "output_type": "stream",
     "text": [
      "/Library/Frameworks/Python.framework/Versions/3.5/lib/python3.5/site-packages/numpy/ma/core.py:6385: MaskedArrayFutureWarning: In the future the default for ma.minimum.reduce will be axis=0, not the current None, to match np.minimum.reduce. Explicitly pass 0 or None to silence this warning.\n",
      "  return self.reduce(a)\n",
      "/Library/Frameworks/Python.framework/Versions/3.5/lib/python3.5/site-packages/numpy/ma/core.py:6385: MaskedArrayFutureWarning: In the future the default for ma.maximum.reduce will be axis=0, not the current None, to match np.maximum.reduce. Explicitly pass 0 or None to silence this warning.\n",
      "  return self.reduce(a)\n"
     ]
    }
   ],
   "source": [
    "plot_decision_regions(X_test_, y_test, LReg)"
   ]
  },
  {
   "cell_type": "code",
   "execution_count": 12,
   "metadata": {
    "_cell_guid": "6f4ab7cb-8ca6-4dea-ab34-f6c140ee91ef",
    "_uuid": "34f3fafa144dfd5b74cf904e94ded1c23b4d672a",
    "collapsed": false
   },
   "outputs": [
    {
     "name": "stdout",
     "output_type": "stream",
     "text": [
      "Train - Accuracy : 0.952380952381\n",
      "Train - Confusion matrix : [[34  0  0]\n",
      " [ 0 30  2]\n",
      " [ 0  3 36]]\n",
      "Train - classification report :              precision    recall  f1-score   support\n",
      "\n",
      "          0       1.00      1.00      1.00        34\n",
      "          1       0.91      0.94      0.92        32\n",
      "          2       0.95      0.92      0.94        39\n",
      "\n",
      "avg / total       0.95      0.95      0.95       105\n",
      "\n",
      "\n",
      "\n",
      "Test - Accuracy : 0.977777777778\n",
      "Test - Confusion matrix : [[16  0  0]\n",
      " [ 0 17  1]\n",
      " [ 0  0 11]]\n",
      "Test - classification report :              precision    recall  f1-score   support\n",
      "\n",
      "          0       1.00      1.00      1.00        16\n",
      "          1       1.00      0.94      0.97        18\n",
      "          2       0.92      1.00      0.96        11\n",
      "\n",
      "avg / total       0.98      0.98      0.98        45\n",
      "\n"
     ]
    }
   ],
   "source": [
    "# Naive Bayes\n",
    "NB = GaussianNB()\n",
    "NB.fit(X_train_, y_train)\n",
    "\n",
    "print (\"Train - Accuracy :\", metrics.accuracy_score(y_train, NB.predict(X_train_)))\n",
    "print (\"Train - Confusion matrix :\",metrics.confusion_matrix(y_train, NB.predict(X_train_)))\n",
    "print (\"Train - classification report :\", metrics.classification_report(y_train, NB.predict(X_train_)))\n",
    "print(\"\\n\")\n",
    "print (\"Test - Accuracy :\", metrics.accuracy_score(y_test, NB.predict(X_test_)))\n",
    "print (\"Test - Confusion matrix :\",metrics.confusion_matrix(y_test, NB.predict(X_test_)))\n",
    "print (\"Test - classification report :\", metrics.classification_report(y_test, NB.predict(X_test_)))"
   ]
  },
  {
   "cell_type": "code",
   "execution_count": 13,
   "metadata": {
    "_cell_guid": "e0f5f981-9883-4040-b744-b103d5314acd",
    "_uuid": "55bdec6f36d932f80b9b2b52b252a647b66b5615",
    "collapsed": false
   },
   "outputs": [
    {
     "name": "stderr",
     "output_type": "stream",
     "text": [
      "/Library/Frameworks/Python.framework/Versions/3.5/lib/python3.5/site-packages/numpy/ma/core.py:6385: MaskedArrayFutureWarning: In the future the default for ma.minimum.reduce will be axis=0, not the current None, to match np.minimum.reduce. Explicitly pass 0 or None to silence this warning.\n",
      "  return self.reduce(a)\n",
      "/Library/Frameworks/Python.framework/Versions/3.5/lib/python3.5/site-packages/numpy/ma/core.py:6385: MaskedArrayFutureWarning: In the future the default for ma.maximum.reduce will be axis=0, not the current None, to match np.maximum.reduce. Explicitly pass 0 or None to silence this warning.\n",
      "  return self.reduce(a)\n"
     ]
    }
   ],
   "source": [
    "plot_decision_regions(X_test_, y_test, NB)"
   ]
  },
  {
   "cell_type": "code",
   "execution_count": 14,
   "metadata": {
    "_cell_guid": "ae9c6562-e66f-4a98-962b-ab7d9498ff98",
    "_uuid": "6cfe128ae1eceafd6ece415f8ccd516d362e2efd",
    "collapsed": false
   },
   "outputs": [
    {
     "name": "stdout",
     "output_type": "stream",
     "text": [
      "Train - Accuracy : 0.952380952381\n",
      "Train - Confusion matrix : [[34  0  0]\n",
      " [ 0 30  2]\n",
      " [ 0  3 36]]\n",
      "Train - classification report :              precision    recall  f1-score   support\n",
      "\n",
      "          0       1.00      1.00      1.00        34\n",
      "          1       0.91      0.94      0.92        32\n",
      "          2       0.95      0.92      0.94        39\n",
      "\n",
      "avg / total       0.95      0.95      0.95       105\n",
      "\n",
      "\n",
      "\n",
      "Test - Accuracy : 0.977777777778\n",
      "Test - Confusion matrix : [[16  0  0]\n",
      " [ 0 17  1]\n",
      " [ 0  0 11]]\n",
      "Test - classification report :              precision    recall  f1-score   support\n",
      "\n",
      "          0       1.00      1.00      1.00        16\n",
      "          1       1.00      0.94      0.97        18\n",
      "          2       0.92      1.00      0.96        11\n",
      "\n",
      "avg / total       0.98      0.98      0.98        45\n",
      "\n"
     ]
    }
   ],
   "source": [
    "# Linear SVM\n",
    "svm = SVC(kernel=\"linear\", random_state=0,gamma=0.1,C=1.0)\n",
    "svm.fit(X_train_, y_train)\n",
    "\n",
    "print (\"Train - Accuracy :\", metrics.accuracy_score(y_train, svm.predict(X_train_)))\n",
    "print (\"Train - Confusion matrix :\",metrics.confusion_matrix(y_train, svm.predict(X_train_)))\n",
    "print (\"Train - classification report :\", metrics.classification_report(y_train, svm.predict(X_train_)))\n",
    "print(\"\\n\")\n",
    "print (\"Test - Accuracy :\", metrics.accuracy_score(y_test, svm.predict(X_test_)))\n",
    "print (\"Test - Confusion matrix :\",metrics.confusion_matrix(y_test, svm.predict(X_test_)))\n",
    "print (\"Test - classification report :\", metrics.classification_report(y_test, svm.predict(X_test_)))"
   ]
  },
  {
   "cell_type": "code",
   "execution_count": 15,
   "metadata": {
    "_cell_guid": "24e42b0d-4989-4443-8112-6459d6517977",
    "_uuid": "f932a4e365f27ffc1158aa1fdf4e775996ca7aac",
    "collapsed": false
   },
   "outputs": [
    {
     "name": "stderr",
     "output_type": "stream",
     "text": [
      "/Library/Frameworks/Python.framework/Versions/3.5/lib/python3.5/site-packages/numpy/ma/core.py:6385: MaskedArrayFutureWarning: In the future the default for ma.minimum.reduce will be axis=0, not the current None, to match np.minimum.reduce. Explicitly pass 0 or None to silence this warning.\n",
      "  return self.reduce(a)\n",
      "/Library/Frameworks/Python.framework/Versions/3.5/lib/python3.5/site-packages/numpy/ma/core.py:6385: MaskedArrayFutureWarning: In the future the default for ma.maximum.reduce will be axis=0, not the current None, to match np.maximum.reduce. Explicitly pass 0 or None to silence this warning.\n",
      "  return self.reduce(a)\n"
     ]
    }
   ],
   "source": [
    "plot_decision_regions(X_test_,y_test,svm)"
   ]
  },
  {
   "cell_type": "code",
   "execution_count": 16,
   "metadata": {
    "_cell_guid": "6b6aa9e8-f00c-48ca-837d-ae07073b8e6c",
    "_uuid": "f1fa57edb0f23f0f9e08a1f7865edf75be739295",
    "collapsed": false
   },
   "outputs": [
    {
     "name": "stdout",
     "output_type": "stream",
     "text": [
      "Train - Accuracy : 0.980952380952\n",
      "Train - Confusion matrix : [[34  0  0]\n",
      " [ 0 30  2]\n",
      " [ 0  0 39]]\n",
      "Train - classification report :              precision    recall  f1-score   support\n",
      "\n",
      "          0       1.00      1.00      1.00        34\n",
      "          1       1.00      0.94      0.97        32\n",
      "          2       0.95      1.00      0.97        39\n",
      "\n",
      "avg / total       0.98      0.98      0.98       105\n",
      "\n",
      "\n",
      "\n",
      "Test - Accuracy : 0.977777777778\n",
      "Test - Confusion matrix : [[16  0  0]\n",
      " [ 0 17  1]\n",
      " [ 0  0 11]]\n",
      "Test - classification report :              precision    recall  f1-score   support\n",
      "\n",
      "          0       1.00      1.00      1.00        16\n",
      "          1       1.00      0.94      0.97        18\n",
      "          2       0.92      1.00      0.96        11\n",
      "\n",
      "avg / total       0.98      0.98      0.98        45\n",
      "\n"
     ]
    }
   ],
   "source": [
    "# XGBoost classifier\n",
    "xgb_clf = xgb.XGBClassifier()\n",
    "xgb_clf = xgb_clf.fit(X_train_, y_train)\n",
    "\n",
    "print (\"Train - Accuracy :\", metrics.accuracy_score(y_train, xgb_clf.predict(X_train_)))\n",
    "print (\"Train - Confusion matrix :\",metrics.confusion_matrix(y_train, xgb_clf.predict(X_train_)))\n",
    "print (\"Train - classification report :\", metrics.classification_report(y_train, xgb_clf.predict(X_train_)))\n",
    "print(\"\\n\")\n",
    "print (\"Test - Accuracy :\", metrics.accuracy_score(y_test, xgb_clf.predict(X_test_)))\n",
    "print (\"Test - Confusion matrix :\",metrics.confusion_matrix(y_test, xgb_clf.predict(X_test_)))\n",
    "print (\"Test - classification report :\", metrics.classification_report(y_test, xgb_clf.predict(X_test_)))"
   ]
  },
  {
   "cell_type": "code",
   "execution_count": 17,
   "metadata": {
    "_cell_guid": "acf81da9-ed23-4895-bb6f-ff734fd831b8",
    "_uuid": "926e3378d8832a2737e4d6f87e9d7cb5291d41ed",
    "collapsed": false
   },
   "outputs": [
    {
     "name": "stderr",
     "output_type": "stream",
     "text": [
      "/Library/Frameworks/Python.framework/Versions/3.5/lib/python3.5/site-packages/numpy/ma/core.py:6385: MaskedArrayFutureWarning: In the future the default for ma.minimum.reduce will be axis=0, not the current None, to match np.minimum.reduce. Explicitly pass 0 or None to silence this warning.\n",
      "  return self.reduce(a)\n",
      "/Library/Frameworks/Python.framework/Versions/3.5/lib/python3.5/site-packages/numpy/ma/core.py:6385: MaskedArrayFutureWarning: In the future the default for ma.maximum.reduce will be axis=0, not the current None, to match np.maximum.reduce. Explicitly pass 0 or None to silence this warning.\n",
      "  return self.reduce(a)\n"
     ]
    }
   ],
   "source": [
    "plot_decision_regions(X_test_, y_test, xgb_clf)"
   ]
  },
  {
   "cell_type": "markdown",
   "metadata": {
    "_cell_guid": "5e49c6ba-194c-4f11-88ae-113fdec99263",
    "_uuid": "57e554f8bbe5618b452040a0e7a60b87553001b6",
    "collapsed": true
   },
   "source": [
    ":) "
   ]
  },
  {
   "cell_type": "code",
   "execution_count": null,
   "metadata": {
    "collapsed": true
   },
   "outputs": [],
   "source": []
  }
 ],
 "metadata": {
  "kernelspec": {
   "display_name": "Python 3",
   "language": "python",
   "name": "python3"
  },
  "language_info": {
   "codemirror_mode": {
    "name": "ipython",
    "version": 3
   },
   "file_extension": ".py",
   "mimetype": "text/x-python",
   "name": "python",
   "nbconvert_exporter": "python",
   "pygments_lexer": "ipython3",
   "version": "3.5.2"
  }
 },
 "nbformat": 4,
 "nbformat_minor": 1
}
